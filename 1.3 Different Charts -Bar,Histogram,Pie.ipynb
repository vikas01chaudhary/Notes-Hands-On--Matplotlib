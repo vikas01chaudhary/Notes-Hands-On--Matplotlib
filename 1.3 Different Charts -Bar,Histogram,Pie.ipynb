{
 "cells": [
  {
   "cell_type": "code",
   "execution_count": 1,
   "id": "ebf991cc",
   "metadata": {},
   "outputs": [],
   "source": [
    "import pandas as pd\n",
    "import numpy as np\n",
    "import matplotlib.pyplot as plt\n",
    "import random\n",
    "import names"
   ]
  },
  {
   "cell_type": "code",
   "execution_count": null,
   "id": "4a8825ba",
   "metadata": {},
   "outputs": [],
   "source": []
  },
  {
   "cell_type": "code",
   "execution_count": 2,
   "id": "c75dfbf1",
   "metadata": {},
   "outputs": [
    {
     "data": {
      "text/html": [
       "<div>\n",
       "<style scoped>\n",
       "    .dataframe tbody tr th:only-of-type {\n",
       "        vertical-align: middle;\n",
       "    }\n",
       "\n",
       "    .dataframe tbody tr th {\n",
       "        vertical-align: top;\n",
       "    }\n",
       "\n",
       "    .dataframe thead th {\n",
       "        text-align: right;\n",
       "    }\n",
       "</style>\n",
       "<table border=\"1\" class=\"dataframe\">\n",
       "  <thead>\n",
       "    <tr style=\"text-align: right;\">\n",
       "      <th></th>\n",
       "      <th>Row ID</th>\n",
       "      <th>Order ID</th>\n",
       "      <th>Order Date</th>\n",
       "      <th>Ship Date</th>\n",
       "      <th>Ship Mode</th>\n",
       "      <th>Customer ID</th>\n",
       "      <th>Customer Name</th>\n",
       "      <th>Segment</th>\n",
       "      <th>Postal Code</th>\n",
       "      <th>City</th>\n",
       "      <th>...</th>\n",
       "      <th>Product ID</th>\n",
       "      <th>Category</th>\n",
       "      <th>Sub-Category</th>\n",
       "      <th>Product Name</th>\n",
       "      <th>Sales</th>\n",
       "      <th>Quantity</th>\n",
       "      <th>Discount</th>\n",
       "      <th>Profit</th>\n",
       "      <th>Shipping Cost</th>\n",
       "      <th>Order Priority</th>\n",
       "    </tr>\n",
       "  </thead>\n",
       "  <tbody>\n",
       "    <tr>\n",
       "      <th>0</th>\n",
       "      <td>40098</td>\n",
       "      <td>CA-2014-AB10015140-41954</td>\n",
       "      <td>2014-11-11</td>\n",
       "      <td>2014-11-13</td>\n",
       "      <td>First Class</td>\n",
       "      <td>AB-100151402</td>\n",
       "      <td>Aaron Bergman</td>\n",
       "      <td>Consumer</td>\n",
       "      <td>73120.0</td>\n",
       "      <td>Oklahoma City</td>\n",
       "      <td>...</td>\n",
       "      <td>TEC-PH-5816</td>\n",
       "      <td>Technology</td>\n",
       "      <td>Phones</td>\n",
       "      <td>Samsung Convoy 3</td>\n",
       "      <td>221.980</td>\n",
       "      <td>2</td>\n",
       "      <td>0.0</td>\n",
       "      <td>62.1544</td>\n",
       "      <td>40.77</td>\n",
       "      <td>High</td>\n",
       "    </tr>\n",
       "    <tr>\n",
       "      <th>1</th>\n",
       "      <td>26341</td>\n",
       "      <td>IN-2014-JR162107-41675</td>\n",
       "      <td>2014-02-05</td>\n",
       "      <td>2014-02-07</td>\n",
       "      <td>Second Class</td>\n",
       "      <td>JR-162107</td>\n",
       "      <td>Justin Ritter</td>\n",
       "      <td>Corporate</td>\n",
       "      <td>NaN</td>\n",
       "      <td>Wollongong</td>\n",
       "      <td>...</td>\n",
       "      <td>FUR-CH-5379</td>\n",
       "      <td>Furniture</td>\n",
       "      <td>Chairs</td>\n",
       "      <td>Novimex Executive Leather Armchair, Black</td>\n",
       "      <td>3709.395</td>\n",
       "      <td>9</td>\n",
       "      <td>0.1</td>\n",
       "      <td>-288.7650</td>\n",
       "      <td>923.63</td>\n",
       "      <td>Critical</td>\n",
       "    </tr>\n",
       "  </tbody>\n",
       "</table>\n",
       "<p>2 rows × 24 columns</p>\n",
       "</div>"
      ],
      "text/plain": [
       "   Row ID                  Order ID Order Date  Ship Date     Ship Mode  \\\n",
       "0   40098  CA-2014-AB10015140-41954 2014-11-11 2014-11-13   First Class   \n",
       "1   26341    IN-2014-JR162107-41675 2014-02-05 2014-02-07  Second Class   \n",
       "\n",
       "    Customer ID  Customer Name    Segment  Postal Code           City  ...  \\\n",
       "0  AB-100151402  Aaron Bergman   Consumer      73120.0  Oklahoma City  ...   \n",
       "1     JR-162107  Justin Ritter  Corporate          NaN     Wollongong  ...   \n",
       "\n",
       "    Product ID    Category Sub-Category  \\\n",
       "0  TEC-PH-5816  Technology       Phones   \n",
       "1  FUR-CH-5379   Furniture       Chairs   \n",
       "\n",
       "                                Product Name     Sales Quantity Discount  \\\n",
       "0                           Samsung Convoy 3   221.980        2      0.0   \n",
       "1  Novimex Executive Leather Armchair, Black  3709.395        9      0.1   \n",
       "\n",
       "     Profit  Shipping Cost  Order Priority  \n",
       "0   62.1544          40.77            High  \n",
       "1 -288.7650         923.63        Critical  \n",
       "\n",
       "[2 rows x 24 columns]"
      ]
     },
     "execution_count": 2,
     "metadata": {},
     "output_type": "execute_result"
    }
   ],
   "source": [
    "# Loading DF\n",
    "\n",
    "df = pd.read_excel(r\"E:\\Data Science\\data set\\global_superstore_2016.xlsx\")\n",
    "\n",
    "df.head(2)"
   ]
  },
  {
   "cell_type": "code",
   "execution_count": 3,
   "id": "8757e7bf",
   "metadata": {},
   "outputs": [
    {
     "data": {
      "text/plain": [
       "Index(['Row ID', 'Order ID', 'Order Date', 'Ship Date', 'Ship Mode',\n",
       "       'Customer ID', 'Customer Name', 'Segment', 'Postal Code', 'City',\n",
       "       'State', 'Country', 'Region', 'Market', 'Product ID', 'Category',\n",
       "       'Sub-Category', 'Product Name', 'Sales', 'Quantity', 'Discount',\n",
       "       'Profit', 'Shipping Cost', 'Order Priority'],\n",
       "      dtype='object')"
      ]
     },
     "execution_count": 3,
     "metadata": {},
     "output_type": "execute_result"
    }
   ],
   "source": [
    "# Checking column names in DF\n",
    "\n",
    "df.columns"
   ]
  },
  {
   "cell_type": "code",
   "execution_count": 7,
   "id": "2d33b27f",
   "metadata": {},
   "outputs": [
    {
     "data": {
      "text/plain": [
       "Row ID                     int64\n",
       "Order ID                  object\n",
       "Order Date        datetime64[ns]\n",
       "Ship Date         datetime64[ns]\n",
       "Ship Mode                 object\n",
       "Customer ID               object\n",
       "Customer Name             object\n",
       "Segment                   object\n",
       "Postal Code              float64\n",
       "City                      object\n",
       "State                     object\n",
       "Country                   object\n",
       "Region                    object\n",
       "Market                    object\n",
       "Product ID                object\n",
       "Category                  object\n",
       "Sub-Category              object\n",
       "Product Name              object\n",
       "Sales                    float64\n",
       "Quantity                   int64\n",
       "Discount                 float64\n",
       "Profit                   float64\n",
       "Shipping Cost            float64\n",
       "Order Priority            object\n",
       "dtype: object"
      ]
     },
     "execution_count": 7,
     "metadata": {},
     "output_type": "execute_result"
    }
   ],
   "source": [
    "df.dtypes"
   ]
  },
  {
   "cell_type": "code",
   "execution_count": 11,
   "id": "6b9be813",
   "metadata": {},
   "outputs": [
    {
     "data": {
      "text/plain": [
       "0             Phones\n",
       "1             Chairs\n",
       "2             Phones\n",
       "3             Phones\n",
       "4            Copiers\n",
       "            ...     \n",
       "51285      Fasteners\n",
       "51286    Furnishings\n",
       "51287            Art\n",
       "51288        Binders\n",
       "51289          Paper\n",
       "Name: Sub-Category, Length: 51290, dtype: object"
      ]
     },
     "execution_count": 11,
     "metadata": {},
     "output_type": "execute_result"
    }
   ],
   "source": [
    "df[\"Sub-Category\"]"
   ]
  },
  {
   "cell_type": "code",
   "execution_count": 12,
   "id": "d57ed45f",
   "metadata": {},
   "outputs": [
    {
     "data": {
      "text/plain": [
       "17"
      ]
     },
     "execution_count": 12,
     "metadata": {},
     "output_type": "execute_result"
    }
   ],
   "source": [
    "df[\"Sub-Category\"].nunique()    \n",
    "\n",
    "# Checking how many unique values we have or how many sub-categoreis we have"
   ]
  },
  {
   "cell_type": "code",
   "execution_count": null,
   "id": "c8563626",
   "metadata": {},
   "outputs": [],
   "source": []
  },
  {
   "cell_type": "markdown",
   "id": "ab319eb8",
   "metadata": {},
   "source": [
    "### I want to find Top 10 Sub-Category by Sum by Profit"
   ]
  },
  {
   "cell_type": "code",
   "execution_count": 14,
   "id": "80daee79",
   "metadata": {},
   "outputs": [
    {
     "data": {
      "text/plain": [
       "Sub-Category\n",
       "Accessories    129626.30620\n",
       "Appliances     141562.58770\n",
       "Art             57829.85930\n",
       "Binders         72433.15160\n",
       "Bookcases      161924.41950\n",
       "Chairs         140396.26750\n",
       "Copiers        258567.54818\n",
       "Envelopes       28849.48730\n",
       "Fasteners       13844.28890\n",
       "Furnishings     46845.43190\n",
       "Labels          14988.92370\n",
       "Machines        58867.87300\n",
       "Paper           58111.65350\n",
       "Phones         216717.00580\n",
       "Storage        108416.68060\n",
       "Supplies        22559.19530\n",
       "Tables         -64083.38870\n",
       "Name: Profit, dtype: float64"
      ]
     },
     "execution_count": 14,
     "metadata": {},
     "output_type": "execute_result"
    }
   ],
   "source": [
    "# STEP 1\n",
    "\n",
    "\n",
    "df.groupby(\"Sub-Category\")[\"Profit\"].sum()\n",
    "\n",
    "\n",
    "# groupby --> subcategory --> on the basis of sum of profit "
   ]
  },
  {
   "cell_type": "code",
   "execution_count": 15,
   "id": "abd2fcf5",
   "metadata": {},
   "outputs": [],
   "source": [
    "# here we got all subcategory sum of profit\n",
    "\n",
    "# this is not sorted & and we want only top 10 subcategory"
   ]
  },
  {
   "cell_type": "code",
   "execution_count": 16,
   "id": "21c842fc",
   "metadata": {},
   "outputs": [
    {
     "data": {
      "text/plain": [
       "Sub-Category\n",
       "Copiers        258567.54818\n",
       "Phones         216717.00580\n",
       "Bookcases      161924.41950\n",
       "Appliances     141562.58770\n",
       "Chairs         140396.26750\n",
       "Accessories    129626.30620\n",
       "Storage        108416.68060\n",
       "Binders         72433.15160\n",
       "Machines        58867.87300\n",
       "Paper           58111.65350\n",
       "Art             57829.85930\n",
       "Furnishings     46845.43190\n",
       "Envelopes       28849.48730\n",
       "Supplies        22559.19530\n",
       "Labels          14988.92370\n",
       "Fasteners       13844.28890\n",
       "Tables         -64083.38870\n",
       "Name: Profit, dtype: float64"
      ]
     },
     "execution_count": 16,
     "metadata": {},
     "output_type": "execute_result"
    }
   ],
   "source": [
    "# STEP 2\n",
    "\n",
    "\n",
    "# Sorting all sub-category in decsending order\n",
    "\n",
    "df.groupby(\"Sub-Category\")[\"Profit\"].sum().sort_values(ascending  = False)"
   ]
  },
  {
   "cell_type": "code",
   "execution_count": 19,
   "id": "29bf1af3",
   "metadata": {},
   "outputs": [
    {
     "data": {
      "text/plain": [
       "Sub-Category\n",
       "Copiers        258567.54818\n",
       "Phones         216717.00580\n",
       "Bookcases      161924.41950\n",
       "Appliances     141562.58770\n",
       "Chairs         140396.26750\n",
       "Accessories    129626.30620\n",
       "Storage        108416.68060\n",
       "Binders         72433.15160\n",
       "Machines        58867.87300\n",
       "Paper           58111.65350\n",
       "Name: Profit, dtype: float64"
      ]
     },
     "execution_count": 19,
     "metadata": {},
     "output_type": "execute_result"
    }
   ],
   "source": [
    "# STEP 3\n",
    "\n",
    "# Sorting all sub-category in decsending order and fetching top 10 \n",
    "\n",
    "top_10 = df.groupby(\"Sub-Category\")[\"Profit\"].sum().sort_values(ascending  = False)[:10]\n",
    "\n",
    "top_10"
   ]
  },
  {
   "cell_type": "code",
   "execution_count": null,
   "id": "170e41d7",
   "metadata": {},
   "outputs": [],
   "source": []
  }
 ],
 "metadata": {
  "kernelspec": {
   "display_name": "Python 3 (ipykernel)",
   "language": "python",
   "name": "python3"
  },
  "language_info": {
   "codemirror_mode": {
    "name": "ipython",
    "version": 3
   },
   "file_extension": ".py",
   "mimetype": "text/x-python",
   "name": "python",
   "nbconvert_exporter": "python",
   "pygments_lexer": "ipython3",
   "version": "3.9.7"
  }
 },
 "nbformat": 4,
 "nbformat_minor": 5
}
